{
 "cells": [
  {
   "cell_type": "code",
   "execution_count": 1,
   "metadata": {},
   "outputs": [],
   "source": [
    "\n",
    "import pandas"
   ]
  },
  {
   "cell_type": "code",
   "execution_count": 2,
   "metadata": {},
   "outputs": [],
   "source": [
    "# Reading Data\n",
    "data = pandas.read_csv(\"Central_Park_Squirrel_Data.csv\")"
   ]
  },
  {
   "cell_type": "code",
   "execution_count": 3,
   "metadata": {},
   "outputs": [
    {
     "data": {
      "text/plain": [
       "array([nan, 'Gray', 'Cinnamon', 'Black'], dtype=object)"
      ]
     },
     "execution_count": 3,
     "metadata": {},
     "output_type": "execute_result"
    }
   ],
   "source": [
    "# Understanding the data\n",
    "\n",
    "data.shape\n",
    "data[\"Primary Fur Color\"].unique()\n"
   ]
  },
  {
   "cell_type": "code",
   "execution_count": 4,
   "metadata": {},
   "outputs": [
    {
     "data": {
      "text/plain": [
       "0     NaN\n",
       "1     NaN\n",
       "2    Gray\n",
       "3    Gray\n",
       "4    Gray\n",
       "Name: Primary Fur Color, dtype: object"
      ]
     },
     "execution_count": 4,
     "metadata": {},
     "output_type": "execute_result"
    }
   ],
   "source": [
    "furs = data[\"Primary Fur Color\"]\n",
    "furs.head()"
   ]
  },
  {
   "cell_type": "code",
   "execution_count": 5,
   "metadata": {},
   "outputs": [
    {
     "name": "stdout",
     "output_type": "stream",
     "text": [
      "(2473, 31)\n",
      "(392, 31)\n",
      "(103, 31)\n"
     ]
    }
   ],
   "source": [
    "# Now we will extract each fur type\n",
    "\n",
    "GrayFur = data[data[\"Primary Fur Color\"] == \"Gray\"]\n",
    "print(GrayFur.shape) # To find the data dimension\n",
    "\n",
    "CinnamonFur = data[data[\"Primary Fur Color\"] == \"Cinnamon\"]\n",
    "print(CinnamonFur.shape)\n",
    "\n",
    "BlackFur = data[data[\"Primary Fur Color\"] == \"Black\"]\n",
    "print(BlackFur.shape)"
   ]
  },
  {
   "cell_type": "code",
   "execution_count": 6,
   "metadata": {},
   "outputs": [
    {
     "name": "stdout",
     "output_type": "stream",
     "text": [
      "2473\n",
      "392\n",
      "103\n",
      "55\n"
     ]
    }
   ],
   "source": [
    "# Count of all the fur colors\n",
    "\n",
    "GrayFurLen = len(GrayFur)\n",
    "print(GrayFurLen)\n",
    "\n",
    "CinnamonFurLen = len(CinnamonFur)\n",
    "print(CinnamonFurLen)\n",
    "\n",
    "BlackFurLen = len(BlackFur)\n",
    "print(BlackFurLen)\n",
    "\n",
    "FurColorNotAvailable = len( data[ data[\"Primary Fur Color\"].isna() == True ] )\n",
    "print(FurColorNotAvailable)"
   ]
  },
  {
   "cell_type": "code",
   "execution_count": 7,
   "metadata": {},
   "outputs": [],
   "source": [
    "# Storing the data\n",
    "\n",
    "Analysis = {\n",
    "    \"Fur Color\" : [\"Gray\", \"Cinnamon\", \"Black\", \"Not Available\"],\n",
    "    \"Count\" : [GrayFurLen, CinnamonFurLen, BlackFurLen, FurColorNotAvailable]\n",
    "}"
   ]
  },
  {
   "cell_type": "code",
   "execution_count": 8,
   "metadata": {},
   "outputs": [],
   "source": [
    "# Converting the dictionary to csv\n",
    "\n",
    "AnalysisDF = pandas.DataFrame(Analysis)\n"
   ]
  },
  {
   "cell_type": "code",
   "execution_count": 9,
   "metadata": {},
   "outputs": [],
   "source": [
    "# Saving to CSV\n",
    "\n",
    "AnalysisDF.to_csv(\"AnalysisResult.csv\")"
   ]
  },
  {
   "cell_type": "code",
   "execution_count": 10,
   "metadata": {},
   "outputs": [
    {
     "name": "stdout",
     "output_type": "stream",
     "text": [
      "   Unnamed: 0      Fur Color  Count\n",
      "0           0           Gray   2473\n",
      "1           1       Cinnamon    392\n",
      "2           2          Black    103\n",
      "3           3  Not Available     55\n"
     ]
    }
   ],
   "source": [
    "# Viewing the csv\n",
    "\n",
    "result = pandas.read_csv(\"AnalysisResult.csv\")\n",
    "\n",
    "print(result)"
   ]
  }
 ],
 "metadata": {
  "kernelspec": {
   "display_name": "Python 3",
   "language": "python",
   "name": "python3"
  },
  "language_info": {
   "codemirror_mode": {
    "name": "ipython",
    "version": 3
   },
   "file_extension": ".py",
   "mimetype": "text/x-python",
   "name": "python",
   "nbconvert_exporter": "python",
   "pygments_lexer": "ipython3",
   "version": "3.10.6"
  },
  "orig_nbformat": 4,
  "vscode": {
   "interpreter": {
    "hash": "f03e65821655f63c3b965e2cc0fd4d4e44e63b88beafee7f1e3cc06cf4eea178"
   }
  }
 },
 "nbformat": 4,
 "nbformat_minor": 2
}
